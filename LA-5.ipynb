{
 "cells": [
  {
   "cell_type": "markdown",
   "id": "37cc57f2",
   "metadata": {},
   "source": [
    "### 1)"
   ]
  },
  {
   "cell_type": "code",
   "execution_count": 24,
   "id": "dabf7f49",
   "metadata": {},
   "outputs": [],
   "source": [
    "import pandas as pd\n",
    "import numpy as np\n",
    "import matplotlib.pyplot as plt\n",
    "import seaborn as sns\n",
    "from sklearn.linear_model import LinearRegression\n",
    "from sklearn import linear_model\n",
    "%matplotlib inline\n",
    "df = pd.read_csv(\"cleaned_sonar.csv\")"
   ]
  },
  {
   "cell_type": "code",
   "execution_count": 25,
   "id": "257abfb2",
   "metadata": {},
   "outputs": [
    {
     "data": {
      "text/html": [
       "<div>\n",
       "<style scoped>\n",
       "    .dataframe tbody tr th:only-of-type {\n",
       "        vertical-align: middle;\n",
       "    }\n",
       "\n",
       "    .dataframe tbody tr th {\n",
       "        vertical-align: top;\n",
       "    }\n",
       "\n",
       "    .dataframe thead th {\n",
       "        text-align: right;\n",
       "    }\n",
       "</style>\n",
       "<table border=\"1\" class=\"dataframe\">\n",
       "  <thead>\n",
       "    <tr style=\"text-align: right;\">\n",
       "      <th></th>\n",
       "      <th>V1</th>\n",
       "      <th>V2</th>\n",
       "      <th>V3</th>\n",
       "      <th>V4</th>\n",
       "      <th>V5</th>\n",
       "      <th>V6</th>\n",
       "      <th>V7</th>\n",
       "      <th>V8</th>\n",
       "      <th>V9</th>\n",
       "      <th>V10</th>\n",
       "      <th>...</th>\n",
       "      <th>V53</th>\n",
       "      <th>V54</th>\n",
       "      <th>V55</th>\n",
       "      <th>V56</th>\n",
       "      <th>V57</th>\n",
       "      <th>V58</th>\n",
       "      <th>V59</th>\n",
       "      <th>V60</th>\n",
       "      <th>Label</th>\n",
       "      <th>is_M</th>\n",
       "    </tr>\n",
       "  </thead>\n",
       "  <tbody>\n",
       "    <tr>\n",
       "      <th>0</th>\n",
       "      <td>0.0200</td>\n",
       "      <td>0.0371</td>\n",
       "      <td>0.0428</td>\n",
       "      <td>0.0207</td>\n",
       "      <td>0.0954</td>\n",
       "      <td>0.0986</td>\n",
       "      <td>0.1539</td>\n",
       "      <td>0.1601</td>\n",
       "      <td>0.3109</td>\n",
       "      <td>0.2111</td>\n",
       "      <td>...</td>\n",
       "      <td>0.0065</td>\n",
       "      <td>0.0159</td>\n",
       "      <td>0.0072</td>\n",
       "      <td>0.0167</td>\n",
       "      <td>0.0180</td>\n",
       "      <td>0.0084</td>\n",
       "      <td>0.0090</td>\n",
       "      <td>0.0032</td>\n",
       "      <td>R</td>\n",
       "      <td>0</td>\n",
       "    </tr>\n",
       "    <tr>\n",
       "      <th>1</th>\n",
       "      <td>0.0453</td>\n",
       "      <td>0.0523</td>\n",
       "      <td>0.0843</td>\n",
       "      <td>0.0689</td>\n",
       "      <td>0.1183</td>\n",
       "      <td>0.2583</td>\n",
       "      <td>0.2156</td>\n",
       "      <td>0.3481</td>\n",
       "      <td>0.3337</td>\n",
       "      <td>0.2872</td>\n",
       "      <td>...</td>\n",
       "      <td>0.0089</td>\n",
       "      <td>0.0048</td>\n",
       "      <td>0.0094</td>\n",
       "      <td>0.0191</td>\n",
       "      <td>0.0140</td>\n",
       "      <td>0.0049</td>\n",
       "      <td>0.0052</td>\n",
       "      <td>0.0044</td>\n",
       "      <td>R</td>\n",
       "      <td>0</td>\n",
       "    </tr>\n",
       "    <tr>\n",
       "      <th>2</th>\n",
       "      <td>0.0262</td>\n",
       "      <td>0.0582</td>\n",
       "      <td>0.1099</td>\n",
       "      <td>0.1083</td>\n",
       "      <td>0.0974</td>\n",
       "      <td>0.2280</td>\n",
       "      <td>0.2431</td>\n",
       "      <td>0.3771</td>\n",
       "      <td>0.5598</td>\n",
       "      <td>0.6194</td>\n",
       "      <td>...</td>\n",
       "      <td>0.0166</td>\n",
       "      <td>0.0095</td>\n",
       "      <td>0.0180</td>\n",
       "      <td>0.0244</td>\n",
       "      <td>0.0316</td>\n",
       "      <td>0.0164</td>\n",
       "      <td>0.0095</td>\n",
       "      <td>0.0078</td>\n",
       "      <td>R</td>\n",
       "      <td>0</td>\n",
       "    </tr>\n",
       "    <tr>\n",
       "      <th>3</th>\n",
       "      <td>0.0100</td>\n",
       "      <td>0.0171</td>\n",
       "      <td>0.0623</td>\n",
       "      <td>0.0205</td>\n",
       "      <td>0.0205</td>\n",
       "      <td>0.0368</td>\n",
       "      <td>0.1098</td>\n",
       "      <td>0.1276</td>\n",
       "      <td>0.0598</td>\n",
       "      <td>0.1264</td>\n",
       "      <td>...</td>\n",
       "      <td>0.0036</td>\n",
       "      <td>0.0150</td>\n",
       "      <td>0.0085</td>\n",
       "      <td>0.0073</td>\n",
       "      <td>0.0050</td>\n",
       "      <td>0.0044</td>\n",
       "      <td>0.0040</td>\n",
       "      <td>0.0117</td>\n",
       "      <td>R</td>\n",
       "      <td>0</td>\n",
       "    </tr>\n",
       "    <tr>\n",
       "      <th>4</th>\n",
       "      <td>0.0762</td>\n",
       "      <td>0.0666</td>\n",
       "      <td>0.0481</td>\n",
       "      <td>0.0394</td>\n",
       "      <td>0.0590</td>\n",
       "      <td>0.0649</td>\n",
       "      <td>0.1209</td>\n",
       "      <td>0.2467</td>\n",
       "      <td>0.3564</td>\n",
       "      <td>0.4459</td>\n",
       "      <td>...</td>\n",
       "      <td>0.0054</td>\n",
       "      <td>0.0105</td>\n",
       "      <td>0.0110</td>\n",
       "      <td>0.0015</td>\n",
       "      <td>0.0072</td>\n",
       "      <td>0.0048</td>\n",
       "      <td>0.0107</td>\n",
       "      <td>0.0094</td>\n",
       "      <td>R</td>\n",
       "      <td>0</td>\n",
       "    </tr>\n",
       "  </tbody>\n",
       "</table>\n",
       "<p>5 rows × 62 columns</p>\n",
       "</div>"
      ],
      "text/plain": [
       "       V1      V2      V3      V4      V5      V6      V7      V8      V9  \\\n",
       "0  0.0200  0.0371  0.0428  0.0207  0.0954  0.0986  0.1539  0.1601  0.3109   \n",
       "1  0.0453  0.0523  0.0843  0.0689  0.1183  0.2583  0.2156  0.3481  0.3337   \n",
       "2  0.0262  0.0582  0.1099  0.1083  0.0974  0.2280  0.2431  0.3771  0.5598   \n",
       "3  0.0100  0.0171  0.0623  0.0205  0.0205  0.0368  0.1098  0.1276  0.0598   \n",
       "4  0.0762  0.0666  0.0481  0.0394  0.0590  0.0649  0.1209  0.2467  0.3564   \n",
       "\n",
       "      V10  ...     V53     V54     V55     V56     V57     V58     V59  \\\n",
       "0  0.2111  ...  0.0065  0.0159  0.0072  0.0167  0.0180  0.0084  0.0090   \n",
       "1  0.2872  ...  0.0089  0.0048  0.0094  0.0191  0.0140  0.0049  0.0052   \n",
       "2  0.6194  ...  0.0166  0.0095  0.0180  0.0244  0.0316  0.0164  0.0095   \n",
       "3  0.1264  ...  0.0036  0.0150  0.0085  0.0073  0.0050  0.0044  0.0040   \n",
       "4  0.4459  ...  0.0054  0.0105  0.0110  0.0015  0.0072  0.0048  0.0107   \n",
       "\n",
       "      V60  Label  is_M  \n",
       "0  0.0032      R     0  \n",
       "1  0.0044      R     0  \n",
       "2  0.0078      R     0  \n",
       "3  0.0117      R     0  \n",
       "4  0.0094      R     0  \n",
       "\n",
       "[5 rows x 62 columns]"
      ]
     },
     "execution_count": 25,
     "metadata": {},
     "output_type": "execute_result"
    }
   ],
   "source": [
    "df.head()"
   ]
  },
  {
   "cell_type": "code",
   "execution_count": 26,
   "id": "5bc2bc65",
   "metadata": {},
   "outputs": [
    {
     "name": "stdout",
     "output_type": "stream",
     "text": [
      "<class 'pandas.core.frame.DataFrame'>\n",
      "RangeIndex: 208 entries, 0 to 207\n",
      "Data columns (total 62 columns):\n",
      " #   Column  Non-Null Count  Dtype  \n",
      "---  ------  --------------  -----  \n",
      " 0   V1      208 non-null    float64\n",
      " 1   V2      208 non-null    float64\n",
      " 2   V3      208 non-null    float64\n",
      " 3   V4      208 non-null    float64\n",
      " 4   V5      208 non-null    float64\n",
      " 5   V6      208 non-null    float64\n",
      " 6   V7      208 non-null    float64\n",
      " 7   V8      208 non-null    float64\n",
      " 8   V9      208 non-null    float64\n",
      " 9   V10     208 non-null    float64\n",
      " 10  V11     208 non-null    float64\n",
      " 11  V12     208 non-null    float64\n",
      " 12  V13     208 non-null    float64\n",
      " 13  V14     208 non-null    float64\n",
      " 14  V15     208 non-null    float64\n",
      " 15  V16     208 non-null    float64\n",
      " 16  V17     208 non-null    float64\n",
      " 17  V18     208 non-null    float64\n",
      " 18  V19     208 non-null    float64\n",
      " 19  V20     208 non-null    float64\n",
      " 20  V21     208 non-null    float64\n",
      " 21  V22     208 non-null    float64\n",
      " 22  V23     208 non-null    float64\n",
      " 23  V24     208 non-null    float64\n",
      " 24  V25     208 non-null    float64\n",
      " 25  V26     208 non-null    float64\n",
      " 26  V27     208 non-null    float64\n",
      " 27  V28     208 non-null    float64\n",
      " 28  V29     208 non-null    float64\n",
      " 29  V30     208 non-null    float64\n",
      " 30  V31     208 non-null    float64\n",
      " 31  V32     208 non-null    float64\n",
      " 32  V33     208 non-null    float64\n",
      " 33  V34     208 non-null    float64\n",
      " 34  V35     208 non-null    float64\n",
      " 35  V36     208 non-null    float64\n",
      " 36  V37     208 non-null    float64\n",
      " 37  V38     208 non-null    float64\n",
      " 38  V39     208 non-null    float64\n",
      " 39  V40     208 non-null    float64\n",
      " 40  V41     208 non-null    float64\n",
      " 41  V42     208 non-null    float64\n",
      " 42  V43     208 non-null    float64\n",
      " 43  V44     208 non-null    float64\n",
      " 44  V45     208 non-null    float64\n",
      " 45  V46     208 non-null    float64\n",
      " 46  V47     208 non-null    float64\n",
      " 47  V48     208 non-null    float64\n",
      " 48  V49     208 non-null    float64\n",
      " 49  V50     208 non-null    float64\n",
      " 50  V51     208 non-null    float64\n",
      " 51  V52     208 non-null    float64\n",
      " 52  V53     208 non-null    float64\n",
      " 53  V54     208 non-null    float64\n",
      " 54  V55     208 non-null    float64\n",
      " 55  V56     208 non-null    float64\n",
      " 56  V57     208 non-null    float64\n",
      " 57  V58     208 non-null    float64\n",
      " 58  V59     208 non-null    float64\n",
      " 59  V60     208 non-null    float64\n",
      " 60  Label   208 non-null    object \n",
      " 61  is_M    208 non-null    int64  \n",
      "dtypes: float64(60), int64(1), object(1)\n",
      "memory usage: 100.9+ KB\n"
     ]
    }
   ],
   "source": [
    "df.info()"
   ]
  },
  {
   "cell_type": "code",
   "execution_count": 27,
   "id": "d4c4a3da",
   "metadata": {},
   "outputs": [
    {
     "data": {
      "text/plain": [
       "V1       0\n",
       "V2       0\n",
       "V3       0\n",
       "V4       0\n",
       "V5       0\n",
       "        ..\n",
       "V58      0\n",
       "V59      0\n",
       "V60      0\n",
       "Label    0\n",
       "is_M     0\n",
       "Length: 62, dtype: int64"
      ]
     },
     "execution_count": 27,
     "metadata": {},
     "output_type": "execute_result"
    }
   ],
   "source": [
    "df.isnull().sum()"
   ]
  },
  {
   "cell_type": "markdown",
   "id": "62593478",
   "metadata": {},
   "source": [
    "### 2)"
   ]
  },
  {
   "cell_type": "code",
   "execution_count": 28,
   "id": "2928b6f4",
   "metadata": {},
   "outputs": [
    {
     "data": {
      "text/plain": [
       "<AxesSubplot:xlabel='is_M', ylabel='Label'>"
      ]
     },
     "execution_count": 28,
     "metadata": {},
     "output_type": "execute_result"
    },
    {
     "data": {
      "image/png": "[encoded data removed]",
      "text/plain": [
       "<Figure size 432x288 with 1 Axes>"
      ]
     },
     "metadata": {
      "needs_background": "light"
     },
     "output_type": "display_data"
    }
   ],
   "source": [
    "sns.boxplot(x='is_M',y='Label',data=df)"
   ]
  },
  {
   "cell_type": "code",
   "execution_count": 7,
   "id": "7265f204",
   "metadata": {},
   "outputs": [
    {
     "data": {
      "text/plain": [
       "0    true\n",
       "1    true\n",
       "2    true\n",
       "3    true\n",
       "4    true\n",
       "Name: new, dtype: object"
      ]
     },
     "execution_count": 7,
     "metadata": {},
     "output_type": "execute_result"
    }
   ],
   "source": [
    "df['is_m']=df['is_M'].map({0: \"R\",1: \"M\"})\n",
    "df['new']=np.where(df['is_m']==df['Label'],'true','false')\n",
    "df['new'].head()"
   ]
  },
  {
   "cell_type": "markdown",
   "id": "edb8bf5b",
   "metadata": {},
   "source": [
    "### 3)"
   ]
  },
  {
   "cell_type": "code",
   "execution_count": 8,
   "id": "b63ba764",
   "metadata": {},
   "outputs": [],
   "source": [
    "from sklearn.model_selection import train_test_split\n",
    "X = df.iloc[:, :-1]\n",
    "Y = df.iloc[:, -1]\n",
    "X_train, X_test, y_train, y_test = train_test_split(X, Y, test_size=0.30, random_state=0)"
   ]
  },
  {
   "cell_type": "markdown",
   "id": "3051dcba",
   "metadata": {},
   "source": [
    "### 4a)"
   ]
  },
  {
   "cell_type": "code",
   "execution_count": 9,
   "id": "dee8031e",
   "metadata": {},
   "outputs": [],
   "source": [
    "from sklearn.linear_model import LogisticRegression\n",
    "df.drop([\"is_m\",\"Label\",\"new\"],axis=1,inplace = True)\n",
    "#print(df)\n",
    "x=df.drop(labels=\"is_M\",axis=1)\n",
    "y=df['is_M']\n",
    "x_train, x_test, y_train, y_test = train_test_split(x, y, test_size=0.30, random_state=0)"
   ]
  },
  {
   "cell_type": "code",
   "execution_count": 10,
   "id": "49bad0a3",
   "metadata": {},
   "outputs": [
    {
     "data": {
      "text/plain": [
       "LogisticRegression()"
      ]
     },
     "execution_count": 10,
     "metadata": {},
     "output_type": "execute_result"
    }
   ],
   "source": [
    "lo=LogisticRegression()\n",
    "lo.fit(x_train,y_train)"
   ]
  },
  {
   "cell_type": "code",
   "execution_count": 11,
   "id": "9e7ef493",
   "metadata": {},
   "outputs": [
    {
     "data": {
      "text/plain": [
       "array([0, 1, 1, 0, 1, 1, 1, 1, 0, 1, 0, 1, 0, 1, 0, 0, 1, 0, 0, 0, 1, 0,\n",
       "       1, 1, 0, 1, 1, 1, 0, 1, 0, 1, 1, 0, 1, 1, 1, 1, 0, 1, 1, 1, 1, 1,\n",
       "       1, 0, 1, 1, 0, 1, 1, 1, 1, 1, 1, 0, 1, 1, 1, 1, 1, 0, 0],\n",
       "      dtype=int64)"
      ]
     },
     "execution_count": 11,
     "metadata": {},
     "output_type": "execute_result"
    }
   ],
   "source": [
    "pred=lo.predict(x_test)\n",
    "pred"
   ]
  },
  {
   "cell_type": "code",
   "execution_count": 12,
   "id": "07ae3f57",
   "metadata": {},
   "outputs": [
    {
     "name": "stdout",
     "output_type": "stream",
     "text": [
      "0.8095238095238095\n"
     ]
    }
   ],
   "source": [
    "from sklearn.metrics import accuracy_score\n",
    "acc1=accuracy_score(y_test,pred)\n",
    "print(acc1)"
   ]
  },
  {
   "cell_type": "markdown",
   "id": "544e3ef0",
   "metadata": {},
   "source": [
    "Logistic regression classifier has 80.95% accuracy"
   ]
  },
  {
   "cell_type": "markdown",
   "id": "5616280f",
   "metadata": {},
   "source": [
    "### 4b)"
   ]
  },
  {
   "cell_type": "code",
   "execution_count": 15,
   "id": "43fc359b",
   "metadata": {},
   "outputs": [
    {
     "name": "stdout",
     "output_type": "stream",
     "text": [
      "[1 1 1 0 1 0 1 1 0 1 0 1 0 1 0 0 1 0 0 0 1 0 1 0 0 1 1 1 1 1 0 0 0 0 1 0 1\n",
      " 1 1 1 1 0 1 1 0 0 1 1 0 1 1 1 1 1 0 0 1 1 1 1 1 1 0]\n"
     ]
    },
    {
     "data": {
      "text/plain": [
       "0.8412698412698413"
      ]
     },
     "execution_count": 15,
     "metadata": {},
     "output_type": "execute_result"
    }
   ],
   "source": [
    "from sklearn.neighbors import KNeighborsClassifier\n",
    "# k=1\n",
    "n1 = KNeighborsClassifier(n_neighbors=1)\n",
    "n1.fit(x_train,y_train)\n",
    "p1=n1.predict(x_test)\n",
    "print(p1)\n",
    "acc21=accuracy_score(y_test,p1)\n",
    "acc21"
   ]
  },
  {
   "cell_type": "code",
   "execution_count": 16,
   "id": "5763d5f3",
   "metadata": {},
   "outputs": [
    {
     "name": "stdout",
     "output_type": "stream",
     "text": [
      "[1 1 1 0 1 0 1 1 0 1 0 1 0 1 0 0 1 0 0 0 1 0 0 0 0 1 1 1 1 1 0 0 0 0 1 0 1\n",
      " 1 0 1 1 0 1 1 0 0 1 0 0 1 1 0 0 1 0 0 1 1 1 1 1 1 0]\n"
     ]
    },
    {
     "data": {
      "text/plain": [
       "0.8571428571428571"
      ]
     },
     "execution_count": 16,
     "metadata": {},
     "output_type": "execute_result"
    }
   ],
   "source": [
    "#k=2\n",
    "n2 = KNeighborsClassifier(n_neighbors=2)\n",
    "n2.fit(x_train,y_train)\n",
    "p2=n2.predict(x_test)\n",
    "print(p2)\n",
    "acc22=accuracy_score(y_test,p2)\n",
    "acc22"
   ]
  },
  {
   "cell_type": "code",
   "execution_count": 17,
   "id": "bb91500a",
   "metadata": {},
   "outputs": [
    {
     "name": "stdout",
     "output_type": "stream",
     "text": [
      "[1 1 1 1 1 0 1 1 0 1 0 1 0 1 0 0 1 0 0 0 1 0 1 0 1 1 1 1 1 1 0 0 0 0 1 0 1\n",
      " 1 0 1 1 0 1 1 0 0 1 0 0 1 1 1 0 1 0 0 1 1 1 1 1 1 0]\n"
     ]
    },
    {
     "data": {
      "text/plain": [
       "0.8253968253968254"
      ]
     },
     "execution_count": 17,
     "metadata": {},
     "output_type": "execute_result"
    }
   ],
   "source": [
    "#k=3\n",
    "n3 = KNeighborsClassifier(n_neighbors=3)\n",
    "n3.fit(x_train,y_train)\n",
    "p3=n3.predict(x_test)\n",
    "print(p3)\n",
    "acc23=accuracy_score(y_test,p3)\n",
    "acc23"
   ]
  },
  {
   "cell_type": "code",
   "execution_count": 18,
   "id": "0ccf9e68",
   "metadata": {},
   "outputs": [
    {
     "name": "stdout",
     "output_type": "stream",
     "text": [
      "[1 0 1 0 1 0 1 1 0 1 0 1 0 1 0 0 1 0 0 0 1 0 1 0 1 1 1 1 1 1 0 0 0 0 1 0 1\n",
      " 1 0 1 1 0 1 1 0 0 1 0 0 1 1 1 0 1 0 0 1 1 1 1 1 1 0]\n"
     ]
    },
    {
     "data": {
      "text/plain": [
       "0.8571428571428571"
      ]
     },
     "execution_count": 18,
     "metadata": {},
     "output_type": "execute_result"
    }
   ],
   "source": [
    "#k=4\n",
    "n4 = KNeighborsClassifier(n_neighbors=4)\n",
    "n4.fit(x_train,y_train)\n",
    "p4=n4.predict(x_test)\n",
    "print(p4)\n",
    "acc24=accuracy_score(y_test,p4)\n",
    "acc24"
   ]
  },
  {
   "cell_type": "code",
   "execution_count": 19,
   "id": "3f7fd4fc",
   "metadata": {},
   "outputs": [
    {
     "name": "stdout",
     "output_type": "stream",
     "text": [
      "[1 1 1 1 1 0 1 1 0 1 0 1 0 1 0 0 1 0 0 0 1 0 1 0 1 1 1 1 1 1 0 0 0 0 1 0 1\n",
      " 1 0 1 1 0 1 1 1 1 1 1 0 1 1 1 1 1 1 0 1 1 1 1 1 1 0]\n"
     ]
    },
    {
     "data": {
      "text/plain": [
       "0.7777777777777778"
      ]
     },
     "execution_count": 19,
     "metadata": {},
     "output_type": "execute_result"
    }
   ],
   "source": [
    "#k=5\n",
    "n5 = KNeighborsClassifier(n_neighbors=5)\n",
    "n5.fit(x_train,y_train)\n",
    "p5=n5.predict(x_test)\n",
    "print(p5)\n",
    "acc25=accuracy_score(y_test,p5)\n",
    "acc25"
   ]
  },
  {
   "cell_type": "code",
   "execution_count": 20,
   "id": "38d94602",
   "metadata": {},
   "outputs": [
    {
     "data": {
      "text/plain": [
       "Text(0, 0.5, 'accuracy')"
      ]
     },
     "execution_count": 20,
     "metadata": {},
     "output_type": "execute_result"
    },
    {
     "data": {
      "image/png": "[encoded data removed]",
      "text/plain": [
       "<Figure size 432x288 with 1 Axes>"
      ]
     },
     "metadata": {
      "needs_background": "light"
     },
     "output_type": "display_data"
    }
   ],
   "source": [
    "objects = ('k=1','k=2','k=3','k=4','k=5')\n",
    "y_pos = np.arange(len(objects))\n",
    "performance = [acc21,acc22,acc23,acc24,acc25]\n",
    "plt.bar(y_pos, performance, align='center', alpha=1)\n",
    "plt.xticks(y_pos, objects)\n",
    "plt.ylabel('accuracy')"
   ]
  },
  {
   "cell_type": "markdown",
   "id": "48c13999",
   "metadata": {},
   "source": [
    "By loopig k value from k=1 to 5, we can see that accuracy is more when k=2"
   ]
  },
  {
   "cell_type": "markdown",
   "id": "f35ba24c",
   "metadata": {},
   "source": [
    "### 4c)"
   ]
  },
  {
   "cell_type": "code",
   "execution_count": 21,
   "id": "762b1448",
   "metadata": {},
   "outputs": [
    {
     "data": {
      "text/plain": [
       "0.746031746031746"
      ]
     },
     "execution_count": 21,
     "metadata": {},
     "output_type": "execute_result"
    }
   ],
   "source": [
    "from sklearn.tree import DecisionTreeClassifier\n",
    "clf = DecisionTreeClassifier()\n",
    "clf.fit(x_train,y_train)\n",
    "acc3=clf.score(x_test,y_test)\n",
    "acc3"
   ]
  },
  {
   "cell_type": "code",
   "execution_count": 22,
   "id": "38060fdb",
   "metadata": {},
   "outputs": [
    {
     "data": {
      "text/plain": [
       "array([0, 0, 1, 0, 1, 0, 1, 1, 0, 0, 0, 1, 0, 1, 0, 0, 1, 0, 0, 1, 0, 1,\n",
       "       0, 1, 0, 1, 1, 1, 1, 1, 0, 1, 1, 0, 1, 1, 0, 1, 1, 1, 1, 1, 0, 1,\n",
       "       1, 0, 1, 1, 0, 1, 1, 1, 1, 1, 1, 0, 1, 1, 1, 0, 1, 0, 0],\n",
       "      dtype=int64)"
      ]
     },
     "execution_count": 22,
     "metadata": {},
     "output_type": "execute_result"
    }
   ],
   "source": [
    "clf.predict(x_test) #prediction of \"is_M values\""
   ]
  },
  {
   "cell_type": "markdown",
   "id": "7859c2ae",
   "metadata": {},
   "source": [
    "Decision tree classifier has less accuracy compared to logistic regression and KNN"
   ]
  },
  {
   "cell_type": "markdown",
   "id": "51b83aa3",
   "metadata": {},
   "source": [
    "### 5)"
   ]
  },
  {
   "cell_type": "code",
   "execution_count": 23,
   "id": "038fa2b2",
   "metadata": {},
   "outputs": [
    {
     "data": {
      "text/plain": [
       "Text(0, 0.5, 'Accuracy')"
      ]
     },
     "execution_count": 23,
     "metadata": {},
     "output_type": "execute_result"
    },
    {
     "data": {
      "image/png": "[encoded data removed]",
      "text/plain": [
       "<Figure size 432x288 with 1 Axes>"
      ]
     },
     "metadata": {
      "needs_background": "light"
     },
     "output_type": "display_data"
    }
   ],
   "source": [
    "objects = ('Logistic','KNN','decision tree')\n",
    "y_pos = np.arange(len(objects))\n",
    "performance = [acc1,acc22,acc3]\n",
    "plt.bar(y_pos, performance, align='center', alpha=1)\n",
    "plt.xticks(y_pos, objects)\n",
    "plt.ylabel('Accuracy')"
   ]
  },
  {
   "cell_type": "markdown",
   "id": "67e9f31b",
   "metadata": {},
   "source": [
    "KNN with k value =1 has the highest accuracy."
   ]
  },
  {
   "cell_type": "code",
   "execution_count": null,
   "id": "71b3f312",
   "metadata": {},
   "outputs": [],
   "source": []
  }
 ],
 "metadata": {
  "kernelspec": {
   "display_name": "Python 3",
   "language": "python",
   "name": "python3"
  },
  "language_info": {
   "codemirror_mode": {
    "name": "ipython",
    "version": 3
   },
   "file_extension": ".py",
   "mimetype": "text/x-python",
   "name": "python",
   "nbconvert_exporter": "python",
   "pygments_lexer": "ipython3",
   "version": "3.8.8"
  }
 },
 "nbformat": 4,
 "nbformat_minor": 5
}
